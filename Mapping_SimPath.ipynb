{
  "nbformat": 4,
  "nbformat_minor": 0,
  "metadata": {
    "colab": {
      "provenance": []
    },
    "kernelspec": {
      "name": "python3",
      "display_name": "Python 3"
    },
    "language_info": {
      "name": "python"
    }
  },
  "cells": [
    {
      "cell_type": "markdown",
      "source": [
        "# RPG: Robot Proving Grounds\n",
        "# Mapping\n",
        "\n",
        "Robotic mapping is a process where a robot utilizes onboard sensors (e.g. lidar, camera) to collect data to generate a map or a floor plan of its surrounding environment via certain algorithms. By doing this, it would be able to localize itself and perform other particular tasks. In this page, we will take a look at a classic mapping algorithm called Occupancy Grid Mapping (OGM) and its application in a simple setting. Let's go!\n",
        "\n",
        "Reference: Sebastian Thrun, Wolfram Burgard, and Dieter Fox. *Probabilistic Robotics*, Ch.9, pages 221 - 244.\n",
        "\n",
        "(Contributor(s): Jeffrey Chen, 02/2024)"
      ],
      "metadata": {
        "id": "zF9dnaEDvhsJ"
      }
    },
    {
      "cell_type": "markdown",
      "source": [
        "# Occupancy Grid Mapping (OGM)\n",
        "\n",
        "Occupancy Grid Mapping considers a probabilistic representation of the environment of interest. The field is evenly partitioned into a certain number of cells, and each cell indicates its occupancy status by 1 (occupied) and 0 (free).\n",
        "\n",
        "**Key assumptions:**\n",
        "- Robot poses (states) are known.\n",
        "- Occupancy of individual cells is independent.\n",
        "- Each cell is a binary random variable: it is either completely free or occupied.\n",
        "- The environment is static (i.e. the occupancy status doesn't change over time).\n",
        "\n",
        "**Sensor:**\n",
        "\n",
        "As the robot moves around, its onboard LiDAR would emit multiple ray beams along different directions to scan the surrounding environment. The sensor records the reflection time of each ray, which would be used to determine whether there is any obstacle existing along that direction.\n"
      ],
      "metadata": {
        "id": "Gh0mEoQ8vi0o"
      }
    },
    {
      "cell_type": "markdown",
      "source": [
        "![](https://drive.google.com/uc?export=view&id=1Dysu6Te3AqbAChNjI8-khW6UPI9qQ_gz)"
      ],
      "metadata": {
        "id": "RBZIPofjL0J1"
      }
    },
    {
      "cell_type": "markdown",
      "source": [
        "Given the robot poses and sensor measurement data, OGM approximates the posterior probabilities of occupancy for all scanned cells:\n",
        "\n",
        "> $p(m | z_{1:t}, x_{1:t})$, where m: status of grid cells, z: measurement, x: robot state,\n",
        "\n",
        "eventually obtaining a complete grid map of the environment.\n"
      ],
      "metadata": {
        "id": "BLK9CvqDSNG0"
      }
    },
    {
      "cell_type": "markdown",
      "source": [
        "---\n",
        "**Algorithm:** Occupancy Grid Mapping (OGM)\n",
        "\n",
        "\n",
        "**Data:**\n",
        "1. log-odds values for all cells, {$l_{t-1}$};\n",
        "2. robot pose, $x_t$;\n",
        "3. sensor measurements, $z_t$.\n",
        "\n",
        "**Steps:**\n",
        "\n",
        "    for all cells m_i do\n",
        "        if m_i in the ray cone of z_t then\n",
        "            l_t_i = l_(t-1)_i + inverse_sensor_model(m_i, x_t, z_t) - prior_log-odd_value\n",
        "        else\n",
        "            l_t_i = l_(t-1)_i\n",
        "        endif\n",
        "    endfor\n",
        "    return {l_t}\n",
        "\n",
        "**Return:**\n",
        "* The latest log-odds values for all cells, {$l_t$};\n",
        "\n",
        "---\n",
        "\n"
      ],
      "metadata": {
        "id": "b9fhy7naSWVU"
      }
    },
    {
      "cell_type": "markdown",
      "source": [
        "**-->> First, let's install some necessary packages:**\n",
        "\n",
        "We are going to use the physics engine **PyBullet**, which establishes an ideal simulated environment for our demonstration.\n",
        "\n",
        "**[This step may take some time]**"
      ],
      "metadata": {
        "id": "D18zxsttgzyw"
      }
    },
    {
      "cell_type": "code",
      "source": [
        "!pip install gitpython\n",
        "!pip install pybullet"
      ],
      "metadata": {
        "colab": {
          "base_uri": "https://localhost:8080/"
        },
        "id": "xU2hG_wkvq34",
        "outputId": "985ce958-94f1-4e8c-b8f6-e8e9d3b41add"
      },
      "execution_count": null,
      "outputs": [
        {
          "output_type": "stream",
          "name": "stdout",
          "text": [
            "Collecting gitpython\n",
            "  Downloading GitPython-3.1.43-py3-none-any.whl (207 kB)\n",
            "\u001b[2K     \u001b[90m━━━━━━━━━━━━━━━━━━━━━━━━━━━━━━━━━━━━━━━━\u001b[0m \u001b[32m207.3/207.3 kB\u001b[0m \u001b[31m3.8 MB/s\u001b[0m eta \u001b[36m0:00:00\u001b[0m\n",
            "\u001b[?25hCollecting gitdb<5,>=4.0.1 (from gitpython)\n",
            "  Downloading gitdb-4.0.11-py3-none-any.whl (62 kB)\n",
            "\u001b[2K     \u001b[90m━━━━━━━━━━━━━━━━━━━━━━━━━━━━━━━━━━━━━━━━\u001b[0m \u001b[32m62.7/62.7 kB\u001b[0m \u001b[31m6.8 MB/s\u001b[0m eta \u001b[36m0:00:00\u001b[0m\n",
            "\u001b[?25hCollecting smmap<6,>=3.0.1 (from gitdb<5,>=4.0.1->gitpython)\n",
            "  Downloading smmap-5.0.1-py3-none-any.whl (24 kB)\n",
            "Installing collected packages: smmap, gitdb, gitpython\n",
            "Successfully installed gitdb-4.0.11 gitpython-3.1.43 smmap-5.0.1\n",
            "Collecting pybullet\n",
            "  Downloading pybullet-3.2.6-cp310-cp310-manylinux_2_17_x86_64.manylinux2014_x86_64.whl (103.2 MB)\n",
            "\u001b[2K     \u001b[90m━━━━━━━━━━━━━━━━━━━━━━━━━━━━━━━━━━━━━━━━\u001b[0m \u001b[32m103.2/103.2 MB\u001b[0m \u001b[31m2.4 MB/s\u001b[0m eta \u001b[36m0:00:00\u001b[0m\n",
            "\u001b[?25hInstalling collected packages: pybullet\n",
            "Successfully installed pybullet-3.2.6\n"
          ]
        }
      ]
    },
    {
      "cell_type": "code",
      "source": [
        "import git\n",
        "!cd /\n",
        "!rm -rf /content/OGM4Colab/\n",
        "!git clone https://github.com/jypipi/OGM4Colab.git"
      ],
      "metadata": {
        "colab": {
          "base_uri": "https://localhost:8080/"
        },
        "id": "uB1VJFYQv6Fi",
        "outputId": "30d023a4-84d9-4051-ca68-7f563bf0c89d"
      },
      "execution_count": null,
      "outputs": [
        {
          "output_type": "stream",
          "name": "stdout",
          "text": [
            "Cloning into 'OGM4Colab'...\n",
            "remote: Enumerating objects: 491, done.\u001b[K\n",
            "remote: Counting objects: 100% (51/51), done.\u001b[K\n",
            "remote: Compressing objects: 100% (38/38), done.\u001b[K\n",
            "remote: Total 491 (delta 22), reused 39 (delta 13), pack-reused 440\u001b[K\n",
            "Receiving objects: 100% (491/491), 10.12 MiB | 14.89 MiB/s, done.\n",
            "Resolving deltas: 100% (220/220), done.\n"
          ]
        }
      ]
    },
    {
      "cell_type": "markdown",
      "source": [
        "**Classes of Interest in the OGM Implementation:**\n",
        "\n",
        "*Simulation*\n",
        "\n",
        "* Initialize the environment, robot, and path simulation in PyBullet.\n",
        "* Environment: a 5x5 square field with boundary walls and 4 square obstacles.\n",
        "* Robot: 4-wheel car with Ackermann steering geometry.\n",
        "* Sensor: LiDAR (Ray length: 2.0, ray count: 50, ray cone angle: 90 deg).\n",
        "* Robot state: x, y, theta (raw angle).\n",
        "\n",
        "*PathSimulator*\n",
        "\n",
        "* Control the robot to move along a given path.\n",
        "* Path: 14 waypoints (including the start point).\n",
        "* Control: a PD controller.\n",
        "\n",
        "*OGM*\n",
        "\n",
        "* Implement OGM algorithm, Bresenham's line algorithm, inverse sensor model, etc.\n",
        "* Provide visualization.\n",
        "* Output a probabilistic grid map."
      ],
      "metadata": {
        "id": "P9ysWHoUwh-W"
      }
    },
    {
      "cell_type": "markdown",
      "source": [
        "**Techniques in OGM:**\n",
        "\n",
        "**1. Log-odds Representation**\n",
        "\n",
        "* $l_{t,i}$ = $\\log \\cfrac{p(m_i | z_{1:t}, x_{1:t})}{1 - p(m_i | z_{1:t}, x_{1:t})}$\n",
        "\n",
        "* The advantage of using log-odds representation of occupancy is that we can avoid numerical instabilities for probabilities near zero or one, and it is easy to convert back to a probability ranging from 0 to 1.\n",
        "\n",
        "**2. Bresenham's Line Algorithm**\n",
        "\n",
        "* This auxiliary algorithm determines all the grids that a given line passes through. In OGM, it calculates all the cells within the detection range of each ray.\n",
        "\n",
        "**3. Inverse Sensor Model**\n",
        "\n",
        "Inverse sensor model is leveraged to update the log-odd value ($l_{t,i}$) for each cell i, given current robot pose and the latest sensor measurement.\n",
        "\n",
        "\n",
        "    if this cell is not in the current ray cone then\n",
        "        return prior_log-odd_value (l_0)\n",
        "    if the distance to this cell is close to the maximum range while still in the ray cone then\n",
        "        return occupancy log-odd value (l_occ)\n",
        "    if this cell is within the ray cone and the distance to it is less than the maximum range then\n",
        "        return unoccupancy log-odd value (l_free)\n"
      ],
      "metadata": {
        "id": "dxnmHOUvPhMN"
      }
    },
    {
      "cell_type": "markdown",
      "source": [
        "**Here is a portion of the implementation of the probabilistic OGM algorithm:**\n",
        "\n",
        "```\n",
        "def mapping(self, dataset):\n",
        "    \"\"\"\n",
        "    Main function to operate occupancy grid mapping. It updates the log odd\n",
        "        scores and occupancy probabilities for the percepted grids.\n",
        "\n",
        "    Parameters:\n",
        "        dataset (tuple): Robot's current pose and the array of the end\n",
        "            points for all laser rays.\n",
        "    Returns:\n",
        "        None\n",
        "    \"\"\"\n",
        "\n",
        "    pose, hitPoints = dataset[0], dataset[1]\n",
        "    rayConeGrids_World, Zt, measPhi, rayConeEnds_World = self.perceptedCells(pose, hitPoints)\n",
        "    self.plotMap = deepcopy(self.probGridMap)\n",
        "    self.rayConeEnds_Grid = \\\n",
        "        [World2Grid(i, self.realMapSize, self.gridMapSize, self.res) for i in rayConeEnds_World]\n",
        "\n",
        "    # Update the log odds for all cells with the perceptual field of lidar\n",
        "    for grid in rayConeGrids_World:\n",
        "        grid_coord = World2Grid(grid, self.realMapSize, self.gridMapSize, self.res)\n",
        "        i, j = grid_coord[1], grid_coord[0]\n",
        "\n",
        "        self.log_t[i][j] += self.inv_sensor_model(pose, grid, Zt, self.sim.Z_max, measPhi) \\\n",
        "                          - self.log_prior\n",
        "        \n",
        "        # Convert to the occupancy probability\n",
        "        P_mi = 1 - 1/(1+np.exp(self.log_t[i][j]))\n",
        "\n",
        "        # Update the probabilistic grid map based on the latest log odds\n",
        "        # 1) When the grid is likely to be occupied\n",
        "        if (P_mi > 0.5):\n",
        "            self.probGridMap[i][j] = 0 # set to zero to plot in black\n",
        "        # 2) When the grid's status is likely undetermined\n",
        "        elif (P_mi == 0.5):\n",
        "            self.probGridMap[i][j] = 0.5 # set to 0.5 to plot in grey\n",
        "        # 3) When the grid is likely to be free\n",
        "        else:\n",
        "            self.probGridMap[i][j] = 1 # set to one to plot in white\n",
        "```\n",
        "\n",
        "\n",
        "```\n",
        "def inv_sensor_model(self, xt, grid_mi, Zt, Z_max, measPhi):\n",
        "    \"\"\"\n",
        "    The function to implement the inverse sensor model to update\n",
        "        the log odd score for each grid.\n",
        "\n",
        "    Parameters:\n",
        "        xt (array): Robot pose [x, y, theta].\n",
        "        grid_mi (tuple): World coordinate of grid center.\n",
        "        Zt (numpy 2D array): Array of range measurements for all rays.\n",
        "        Z_max (float): Maximum measurement range of lidar.\n",
        "        measPhi (numpy 2D array): Array of relative angles between robot\n",
        "            and Lidar rays.\n",
        "    Returns:\n",
        "        float: Log odd score update.\n",
        "    \"\"\"\n",
        "\n",
        "    # Distance between robot and grid center\n",
        "    r = np.sqrt((grid_mi[0]-xt[0])**2 + (grid_mi[1]-xt[1])**2)\n",
        "    # Relative angle between robot and grid center\n",
        "    phi = np.arctan2(grid_mi[1]-xt[1], grid_mi[0]-xt[0]) - xt[2]\n",
        "    # Index of the ray that corresponds to this measurement\n",
        "    k = np.argmin(abs(np.subtract(phi, measPhi)))\n",
        "\n",
        "    # Determine the update of log odd score for this grid\n",
        "    if ((r > np.minimum(Z_max, Zt[k]+self.res/2.0)) or (np.abs(phi-measPhi[k]) > self.sim.beta/2.0)):\n",
        "        return self.log_prior\n",
        "    elif ((Zt[k] < Z_max) and (np.abs(r-Zt[k]) < self.res/2.0*np.sqrt(2))):\n",
        "        return self.l_occ\n",
        "    elif (r < Zt[k]):\n",
        "        return self.l_free\n",
        "    else:\n",
        "        return 0.0\n",
        "```\n",
        "\n",
        "Let's get started to visualize the output -->\n",
        "\n",
        "**[This step may take more time...first, make your choices. Run it!~]**"
      ],
      "metadata": {
        "id": "urI51t-vxWtD"
      }
    },
    {
      "cell_type": "code",
      "source": [
        "%run /content/OGM4Colab/OGM_Colab/OGM.py"
      ],
      "metadata": {
        "colab": {
          "base_uri": "https://localhost:8080/",
          "height": 488
        },
        "id": "821iMoYBR4s8",
        "outputId": "762d714a-f46b-431d-86ff-60f1ef0aecf2"
      },
      "execution_count": null,
      "outputs": [
        {
          "output_type": "stream",
          "name": "stdout",
          "text": [
            "Total run time: 3 min 29.4 sec.\n"
          ]
        },
        {
          "output_type": "display_data",
          "data": {
            "text/plain": [
              "<Figure size 640x480 with 1 Axes>"
            ],
            "image/png": "[encoded data removed]"
          },
          "metadata": {}
        },
        {
          "output_type": "display_data",
          "data": {
            "text/plain": [
              "<Figure size 640x480 with 0 Axes>"
            ]
          },
          "metadata": {}
        }
      ]
    },
    {
      "cell_type": "markdown",
      "source": [
        "##**Results & Discussion:**\n",
        "\n",
        "After a glimpse of Occupancy Grid Mapping, can you tell some advantages and limitations of this algorithm?\n",
        "\n",
        "![](https://drive.google.com/uc?export=view&id=14AaYAZOOZsiAh9LJYzh7vLcIU0vT18y_)\n",
        "\n",
        "![](https://drive.google.com/uc?export=view&id=1k-JbFlB59bIGwAa6XHG2RWULdgVvjr1X)\n"
      ],
      "metadata": {
        "id": "MDF-yaGzH8hC"
      }
    }
  ]
}